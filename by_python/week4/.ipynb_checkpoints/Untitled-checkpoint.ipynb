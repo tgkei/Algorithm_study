{
 "cells": [
  {
   "cell_type": "markdown",
   "metadata": {},
   "source": [
    "# 12724\n",
    "접근법\n",
    "> * 가장 작은 수를 만들어야 함으로 두 배열 a,b 배열에 대하여 a 배열에서 가장 작은 수, b 배열에서 가장 큰 수를 곱하는 식으로 하는 것이 가장 효율적임을 자명한다.\n",
    "* 두 배열을 만들고 그 배열들을 하나는 오름차순, 하나는 내림차순으로하고 곱해주면 됨"
   ]
  },
  {
   "cell_type": "code",
   "execution_count": null,
   "metadata": {},
   "outputs": [],
   "source": [
    "N = int(input())\n",
    "\n",
    "for i in range(N):\n",
    "    result = 0\n",
    "    input()\n",
    "    str1 = input().split()\n",
    "    str2 = input().split()\n",
    "    int1=[]\n",
    "    int2=[]\n",
    "    for str_to_int1, str_to_int2 in zip(str1, str2):\n",
    "        int1.append(int(str_to_int1))\n",
    "        int2.append(int(str_to_int2))\n",
    "    int1.sort()\n",
    "    int2.sort(reverse=True)\n",
    "\n",
    "    for k,j in zip(int1, int2):\n",
    "        result += k*j\n",
    "\n",
    "    print(\"Case #{}: {}\".format(i+1,result))"
   ]
  },
  {
   "cell_type": "markdown",
   "metadata": {},
   "source": [
    "# 15990\n",
    "접근법\n",
    "> * 최대 n이 100,000이다. 이때 가장 작은 숫자들의 조합으로 만들어질 경우는 1과 2가 반복적으로 나와서 100,000까지 증가하는 경우이다.\n",
    "이 경우, 100,000/3 * 2로하면 약 66,667인데 이게 하나의 조합일 뿐 조합이 엄청 많아진다. 즉, 시간 초과가 뜰거라고 기대하고 연습삼아 완전 탐색 코드를 먼저 짜봤다."
   ]
  },
  {
   "cell_type": "code",
   "execution_count": null,
   "metadata": {},
   "outputs": [],
   "source": [
    "N = int(input())\n",
    "\n",
    "one_to_three = [1,2,3]\n",
    "\n",
    "def result(number, target, cur_score):\n",
    "    res = 0\n",
    "    for i in one_to_three:\n",
    "        if i == number:\n",
    "            continue\n",
    "        if (cur_score + i > target):\n",
    "            return 0\n",
    "        if (cur_score + i == target):\n",
    "            return res+1\n",
    "        res += result(i, target, cur_score+i)\n",
    "    return res\n",
    "\n",
    "for _ in range(N):\n",
    "    res = 0\n",
    "    target = int(input())\n",
    "    cur_score = 0\n",
    "    res = result(0, target, cur_score)\n",
    "    print(res%1000000009)"
   ]
  },
  {
   "cell_type": "markdown",
   "metadata": {},
   "source": [
    "<b> <font color = 'red'>런타임 에러가 나는데 이유가 뭘까?! 뭘까용??? 뭘까나??? 까나리 액젓!?</font></b><br>\n",
    "백준에서는 런타임 에러에 대해서 자세히 알려주지 않기 때문에 특정 코드를 <b>ideone</b>에 들어가서 확인하면 에러 찾을 수 있다고 한다!"
   ]
  },
  {
   "cell_type": "markdown",
   "metadata": {},
   "source": [
    "접근법 2\n",
    "> * 너무나도 당연하게도 특정 값을 만드는 방법이 정해져 있는데 중복이 될 때마다 새로 다시 다 구하는 중복이 존재 한다, 예를 들어 1을 사용하였고 2를 만드는 방법은 1개임을 알 수 있는데 다음 번에 새로 들어올때 또 이걸 다 확인해보는 멍청한 짓을 한다 컴터는 빠가야로!\n",
    "* 위의 문제를 고치기 위해서 DP를 사용 하였다. 이때 특정 수 i를 만드는 조합을 그냥 넣는게 아니라 i를 만들 때 이전에 사용된 값을 제외하고 만들어야 하기 때문에 그것 까지 고려하여, 총 3 X 100,000 배열을 만들고 그전에 온 값이 1이라면 첫번째 row에 해당하는 i에 대하여 이미 값이 존재하는지 존재하지 않는지를 확인하였다."
   ]
  },
  {
   "cell_type": "code",
   "execution_count": null,
   "metadata": {},
   "outputs": [],
   "source": [
    "N = int(input())\n",
    "\n",
    "cache = [[-1 for _ in range(100000)] for _ in range(3)]\n",
    "cache[0][0] = 0\n",
    "cache[0][1] = 1\n",
    "cache[0][2] = 2\n",
    "cache[1][0] = 1\n",
    "cache[1][1] = 0\n",
    "cache[1][2] = 2\n",
    "cache[2][0] = 1\n",
    "cache[2][1] = 1\n",
    "cache[2][2] = 2\n",
    "\n",
    "\n",
    "def f(picked, cur):\n",
    "    if cache[picked-1][cur-1] != -1:\n",
    "        return cache[picked-1][cur-1]\n",
    "    ret = 0\n",
    "    for i in range(1,4):\n",
    "        temp = 0\n",
    "        if i == picked:\n",
    "            continue\n",
    "        temp += f(i, cur-i)\n",
    "        cache[i-1][cur-i-1] = temp\n",
    "        ret += temp\n",
    "    return ret\n",
    "\n",
    "\n",
    "for _ in range(N):\n",
    "    ret = 0\n",
    "    target = int(input())\n",
    "    cur_score = 0\n",
    "    for pick in range(1,4):\n",
    "        ret += f(pick, target-pick)\n",
    "    print(ret%1000000009)"
   ]
  },
  {
   "cell_type": "markdown",
   "metadata": {},
   "source": [
    "<font color = 'red'><b> 이것도 런타임 에러가 난다! 왜일까용?!?!?!</b></font><br>\n",
    "<font color = 'blue'><b> maximum recursion depth exceeded in comparison 이 에러가 뜬다. 재귀를 너무 많이 했다는 건데 고쳐봐야징 </b></font>"
   ]
  },
  {
   "cell_type": "markdown",
   "metadata": {},
   "source": [
    "관련 정보를 찾다가 input보다 빠른 python 함수를 알았다!!\n",
    ">input()은 꽤나 느린 입력 함수이니 stdin.readline()을 쓰세요. 사용법은 똑같습니다."
   ]
  },
  {
   "cell_type": "code",
   "execution_count": 1,
   "metadata": {},
   "outputs": [],
   "source": [
    "import sys\n",
    "t = sys.stdin.readline() # input이랑 똑같다고 한다 확인을 해보자! 근데 split이랑은 없는 것 같다! 안쓸란다 나는"
   ]
  },
  {
   "cell_type": "markdown",
   "metadata": {},
   "source": [
    "<b> 접근법 3 (성공)</b>\n",
    "> * 재귀를 하려니깐 너무 깊어진다고 안된다고 해서 처음부터 그냥 값들을 저장하기 위해 한번 반복하고 그 뒤에 알맞는 값들올 뽑아오는 걸 사용하였다.\n",
    "* 이를 위해 값들을 미리 모두 받고 그 중 가장 큰 값보다 1 작은 만큼의 정보들은 모두 만들어 놓았다!\n",
    "* 이 방법을 사용할 시, 첫 값이 1, 2, 3일 경우 에러가 나서 따로 처리해줘야 한다 (이거 찾는다고 한 세월 다 보냈다.)"
   ]
  },
  {
   "cell_type": "code",
   "execution_count": null,
   "metadata": {},
   "outputs": [],
   "source": [
    "N = int(input())\n",
    "\n",
    "targets = []\n",
    "for _ in range(N):\n",
    "    targets.append(int(input())-1)\n",
    "\n",
    "max_target = max(targets)\n",
    "\n",
    "cache = [[-1 for _ in range(100000)] for _ in range(3)]\n",
    "cache[0][0] = 0\n",
    "cache[0][1] = 1\n",
    "cache[0][2] = 2\n",
    "cache[1][0] = 1\n",
    "cache[1][1] = 0\n",
    "cache[1][2] = 2\n",
    "cache[2][0] = 1\n",
    "cache[2][1] = 1\n",
    "cache[2][2] = 2\n",
    "\n",
    "yirun = [1,1,3] # 접근법 3에 3번째 bulleㅅ의 내용이다\n",
    "\n",
    "ii = 2\n",
    "while ii < max_target:\n",
    "        ii += 1\n",
    "        cache[0][ii] = (cache[1][ii-2] + cache[2][ii-3]) % 1000000009\n",
    "        cache[1][ii] = (cache[0][ii-1] + cache[2][ii-3]) % 1000000009\n",
    "        cache[2][ii] = (cache[0][ii-1] + cache[1][ii-2]) % 1000000009\n",
    "\n",
    "for target in targets:\n",
    "    if target<=2:\n",
    "        ret = yirun[target]\n",
    "        print(ret)\n",
    "        continue\n",
    "    ret = 0    \n",
    "    ret += cache[0][target-1] + cache[1][target-2] + cache[2][target-3]\n",
    "\n",
    "    print(ret%1000000009)"
   ]
  },
  {
   "cell_type": "markdown",
   "metadata": {},
   "source": [
    "# 1546\n",
    "접근법\n",
    "> * 필요합니까? 그냥 계산 때리세요"
   ]
  },
  {
   "cell_type": "code",
   "execution_count": null,
   "metadata": {},
   "outputs": [],
   "source": [
    "N = int(input())\n",
    "\n",
    "scores = input().split()\n",
    "\n",
    "grades = []\n",
    "\n",
    "for score in scores:\n",
    "    grades.append(int(score))\n",
    "\n",
    "max_score=max(grades)\n",
    "avg = 0\n",
    "for i, score in enumerate(scores):\n",
    "    grades[i] = float(grade/max_score*100)\n",
    "    avg+= grades[i]\n",
    "\n",
    "print(avg/N)"
   ]
  }
 ],
 "metadata": {
  "kernelspec": {
   "display_name": "Python [conda env:deep-learning]",
   "language": "python",
   "name": "conda-env-deep-learning-py"
  },
  "language_info": {
   "codemirror_mode": {
    "name": "ipython",
    "version": 3
   },
   "file_extension": ".py",
   "mimetype": "text/x-python",
   "name": "python",
   "nbconvert_exporter": "python",
   "pygments_lexer": "ipython3",
   "version": "3.7.2"
  }
 },
 "nbformat": 4,
 "nbformat_minor": 2
}
