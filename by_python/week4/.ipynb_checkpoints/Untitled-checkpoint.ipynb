{
 "cells": [
  {
   "cell_type": "markdown",
   "metadata": {},
   "source": [
    "# 12724\n",
    "접근법\n",
    "> * 가장 작은 수를 만들어야 함으로 두 배열 a,b 배열에 대하여 a 배열에서 가장 작은 수, b 배열에서 가장 큰 수를 곱하는 식으로 하는 것이 가장 효율적임을 자명한다.\n",
    "* 두 배열을 만들고 그 배열들을 하나는 오름차순, 하나는 내림차순으로하고 곱해주면 됨"
   ]
  },
  {
   "cell_type": "code",
   "execution_count": null,
   "metadata": {},
   "outputs": [],
   "source": [
    "N = int(input())\n",
    "\n",
    "for i in range(N):\n",
    "    result = 0\n",
    "    input()\n",
    "    str1 = input().split()\n",
    "    str2 = input().split()\n",
    "    int1=[]\n",
    "    int2=[]\n",
    "    for str_to_int1, str_to_int2 in zip(str1, str2):\n",
    "        int1.append(int(str_to_int1))\n",
    "        int2.append(int(str_to_int2))\n",
    "    int1.sort()\n",
    "    int2.sort(reverse=True)\n",
    "\n",
    "    for k,j in zip(int1, int2):\n",
    "        result += k*j\n",
    "\n",
    "    print(\"Case #{}: {}\".format(i+1,result))"
   ]
  },
  {
   "cell_type": "markdown",
   "metadata": {},
   "source": [
    "# 15990\n",
    "접근법\n",
    "> * 최대 n이 100,000이다. 이때 가장 작은 숫자들의 조합으로 만들어질 경우는 1과 2가 반복적으로 나와서 100,000까지 증가하는 경우이다.\n",
    "이 경우, 100,000/3 * 2로하면 약 66,667인데 이게 하나의 조합일 뿐 조합이 엄청 많아진다. 즉, 시간 초과가 뜰거라고 기대하고 연습삼아 완전 탐색 코드를 먼저 짜봤다."
   ]
  },
  {
   "cell_type": "code",
   "execution_count": null,
   "metadata": {},
   "outputs": [],
   "source": [
    "N = int(input())\n",
    "\n",
    "one_to_three = [1,2,3]\n",
    "\n",
    "def result(number, target, cur_score):\n",
    "    res = 0\n",
    "    for i in one_to_three:\n",
    "        if i == number:\n",
    "            continue\n",
    "        if (cur_score + i > target):\n",
    "            return 0\n",
    "        if (cur_score + i == target):\n",
    "            return res+1\n",
    "        res += result(i, target, cur_score+i)\n",
    "    return res\n",
    "\n",
    "for _ in range(N):\n",
    "    res = 0\n",
    "    target = int(input())\n",
    "    cur_score = 0\n",
    "    res = result(0, target, cur_score)\n",
    "    print(res%1000000009)"
   ]
  },
  {
   "cell_type": "markdown",
   "metadata": {},
   "source": [
    "# 런타임 에러가 나는데 이유가 뭘까?! 뭘까용??? 뭘까나??? 까나리 액젓!?"
   ]
  },
  {
   "cell_type": "markdown",
   "metadata": {},
   "source": [
    "# 1546\n",
    "접근법\n",
    "> * 필요합니까? 그냥 계산 때리세요"
   ]
  },
  {
   "cell_type": "code",
   "execution_count": null,
   "metadata": {},
   "outputs": [],
   "source": [
    "N = int(input())\n",
    "\n",
    "scores = input().split()\n",
    "\n",
    "grades = []\n",
    "\n",
    "for score in scores:\n",
    "    grades.append(int(score))\n",
    "\n",
    "max_score=max(grades)\n",
    "avg = 0\n",
    "for i, score in enumerate(scores):\n",
    "    grades[i] = float(grade/max_score*100)\n",
    "    avg+= grades[i]\n",
    "\n",
    "print(avg/N)"
   ]
  }
 ],
 "metadata": {
  "kernelspec": {
   "display_name": "Python [conda env:deep-learning]",
   "language": "python",
   "name": "conda-env-deep-learning-py"
  },
  "language_info": {
   "codemirror_mode": {
    "name": "ipython",
    "version": 3
   },
   "file_extension": ".py",
   "mimetype": "text/x-python",
   "name": "python",
   "nbconvert_exporter": "python",
   "pygments_lexer": "ipython3",
   "version": "3.7.2"
  }
 },
 "nbformat": 4,
 "nbformat_minor": 2
}
