{
 "cells": [
  {
   "cell_type": "markdown",
   "metadata": {},
   "source": [
    "# 10033번\n",
    "문제 분석:\n",
    "> * 연속된 구간 안에 같은 수의 흰색과 점박이? 소가 있도록 하는 가장 긴 구간을 구하기\n",
    "* 흰색은 점박이로 바꿀 수 있다\n",
    "\n",
    "기본 접근 방법:\n",
    "> * 가장 기본적으로 구간 안에 있는 소의 수는 짝수가 되어야 한다!\n",
    "* 항상 흰색 소가 점박이 새끼보다 0이상의 짝수 만큼은 더 많아야 된다 ex) (흰소, 점박이) = (4, 2), (2,2) 이때 (0,2)는 안됨!"
   ]
  },
  {
   "cell_type": "markdown",
   "metadata": {},
   "source": [
    "## 방법 1\n",
    ">1. 들어오는 소들의 위치에 해당하는 번호와 품종?을 dictionary 형태로 저장\n",
    "2. 들어올 때 위치에 해당하는 값을 index라는 list에 저장\n",
    "3. dictionary는 자동 정렬되고 index는 sort를 사용하여 정렬하면 index 리스트의 0번째는 가장 왼쪽에 해당하는 소에 정보를 갖는다\n",
    "4. index 리스트를 반복문을 통해 접근\n",
    "5. index에 가리키고 있는 숫자를 포함 짝수개의 소를 포함 할 수 있는 인덱스를 가장 오른쪽 부터 접근\n",
    "6. 모든 값으 합이 0 혹은 0의 짝수이면 max 값과 비교하여 더 큰 값을 저장하고 다음 index 리스트로 넘어간다."
   ]
  },
  {
   "cell_type": "code",
   "execution_count": null,
   "metadata": {},
   "outputs": [],
   "source": [
    "#from collections import OrderedDict\n",
    "\n",
    "N = int(input())\n",
    "\n",
    "index = []\n",
    "\n",
    "cow = {}\n",
    "\n",
    "cnt = 0\n",
    "for i in range(N):\n",
    "    cow_pos, cow_color = input().split()\n",
    "    cow_pos = int(cow_pos)\n",
    "    if cow_color == 'W':\n",
    "        cnt +=1\n",
    "        cow[cow_pos] = 1\n",
    "    else:\n",
    "        cnt -=1\n",
    "        cow[cow_pos] = -1\n",
    "    index.append(cow_pos)\n",
    "\n",
    "index.sort()  ## 소의 위치를 index로 지정하기 위해서\n",
    "\n",
    "maximum = 0\n",
    "temp = 0\n",
    "\n",
    "for i in range(len(index)):\n",
    "    # j의 값 중 가장 큰 값을 구함 여기서부터 i+1 즉 i까지 내려가면 [j, i)로 가능 -2 씩 하강\n",
    "    \n",
    "    if i != 0: # 0번째를 제외하고 1번째부터 시작한다고하면 1번째 부터 시작이면 그 전 값을 빼줘야함\n",
    "        cnt -= cow[index[i-1]]\n",
    "    \n",
    "    temp = cnt\n",
    "    ## j값 구하는 곳    \n",
    "    if i % 2 ==0: # i 가 짝수이면 j는 N-1 이하 중 가장 큰 홀수\n",
    "        if N % 2 ==0:\n",
    "            j = N-1\n",
    "        else:\n",
    "            j = N-2\n",
    "    else: # i 가 홀수이면 j는 N-1 이하 중 가장 큰 짝수\n",
    "        if N % 2 ==0: #N이 짝수\n",
    "            j = N-2\n",
    "        else:\n",
    "            j = N-1\n",
    "\n",
    "    if maximum > (index[j]-index[i]):  ## max의 길이보다 배열이 짧을 경우 그냥 끝냄\n",
    "        break\n",
    "\n",
    "    for ind in range(j,i,-2):\n",
    "        if maximum > (index[ind] - index[i]):\n",
    "            break\n",
    "        \n",
    "        if ind+1 < N: ## ind+1이 N이 아니면 ind보다 한칸 오른쪽에 해당하는 값 하나를 빼줘 ind+1이 N이면 즉 ind가 배열의 제일 오른쪽이면 그냥 temp 사용. ind가 배열 제일 오른쪽이 아니면 바로 오른쪽에 하나 값을 뺀다\n",
    "            temp -= cow[index[ind+1]]\n",
    "\n",
    "        if temp >= 0 and temp % 2 ==0:\n",
    "            maximum = max(index[ind]-index[i],maximum)\n",
    "            break\n",
    "        temp -= cow[index[ind]] # 자신을 사용했고 다음에는 자신을 제외하고 해야 되니깐 자신의 부분을 뺀다.\n",
    "\n",
    "print(maximum)"
   ]
  },
  {
   "cell_type": "markdown",
   "metadata": {},
   "source": [
    "시간 초과 뜸 씨발"
   ]
  }
 ],
 "metadata": {
  "kernelspec": {
   "display_name": "Python [conda env:deep-learning]",
   "language": "python",
   "name": "conda-env-deep-learning-py"
  },
  "language_info": {
   "codemirror_mode": {
    "name": "ipython",
    "version": 3
   },
   "file_extension": ".py",
   "mimetype": "text/x-python",
   "name": "python",
   "nbconvert_exporter": "python",
   "pygments_lexer": "ipython3",
   "version": "3.7.2"
  }
 },
 "nbformat": 4,
 "nbformat_minor": 2
}
