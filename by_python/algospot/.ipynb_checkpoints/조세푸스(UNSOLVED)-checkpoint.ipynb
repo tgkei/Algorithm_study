{
 "cells": [
  {
   "cell_type": "markdown",
   "metadata": {},
   "source": [
    "# 방법 1\n",
    "### deque를 사용한다\n",
    "> * 주요 메소드\n",
    "* rotate(-1) 왼쪽으로 한칸씩 값을 이동. 즉 0, 1, 2, 3, 4, 5 일때 1, 2, 3, 4, 5, 0이 된다.\n",
    "* 만약 3번째 놈이 죽어야 하면 -1을 세번하고 맨 앞에 사람을 pop하면 원하는 놈들을 뺄 수 있다.\n",
    "\n",
    "### 문제점\n",
    "가장 큰 문제점은 맨 앞에 rotate 할 경우 deque가 linked list가 아닌 배열이기 때문에 재배치하는데 n만큼의 시간이 걸린다! 그래서 시간초과가 난다. 또 여기서 주목할 점은 popleft는 거의 O(1)이라고 한다. 그 이유는 "
   ]
  },
  {
   "cell_type": "code",
   "execution_count": 4,
   "metadata": {},
   "outputs": [
    {
     "name": "stdout",
     "output_type": "stream",
     "text": [
      "2\n",
      "6 3\n",
      "3 5\n",
      "40 3\n",
      "11 26\n",
      "0.0\n"
     ]
    }
   ],
   "source": [
    "import time\n",
    "from collections import deque\n",
    "a = time.time() \n",
    "t = 0.0\n",
    "for _ in range(int(input())):\n",
    "    n, k = map(int, input().split())\n",
    "    a = time.time()\n",
    "    number = deque()\n",
    "    result = 0\n",
    "    for i in range(n):\n",
    "        number.append(str(i+1))\n",
    "    # 숫자 다 넣어짐\n",
    "    i = 0\n",
    "    number.popleft()\n",
    "    while len(number) > 2:\n",
    "        i +=1\n",
    "        if i != k:\n",
    "            number.rotate(-1)\n",
    "        else:\n",
    "            i = 0\n",
    "            number.popleft()\n",
    "    number = list(sorted(number))\n",
    "    result = ' '.join(number)\n",
    "    print(result)\n",
    "    b = time.time()\n",
    "    t += (b-a)\n",
    "\n",
    "print(t)"
   ]
  },
  {
   "cell_type": "markdown",
   "metadata": {},
   "source": [
    "주피터 노트북에서는 0.0으로 나오지만 vscode를 사용한 결과 수행시간이 0.001991748809814453가 나온다. 그리고 위 식은 알고 스팟에서 시간 초과가 나온다(백준에 조세푸스 문제도 0번 1번은 풀리지만 2번부턴 시간 초과가 나온다)"
   ]
  },
  {
   "cell_type": "markdown",
   "metadata": {},
   "source": [
    "# 방법2\n",
    "### Linked list를 만들어준다.\n",
    "> * 직접 linked list를 만들어서 시간을 봐보겠다. 이론상 시간초과가 나오면 안되는데 시간 초과가 난다....\n",
    "\n",
    "아래는 class 부분 구현한거다 겁나 불편해서 어차피 못 읽을거라고 생각한다.\n"
   ]
  },
  {
   "cell_type": "code",
   "execution_count": null,
   "metadata": {},
   "outputs": [],
   "source": [
    "class node:\n",
    "    def __init__(self, data,prev = None, nex= None):\n",
    "        self.data = data\n",
    "        self.next = nex\n",
    "        self.previous = prev\n",
    "\n",
    "class linked:\n",
    "    def __init__(self):\n",
    "        self.head = None\n",
    "        self.current = None\n",
    "        self.len = 0\n",
    "        self.iter = None\n",
    "    \n",
    "    def move_right(self):\n",
    "        self.iter = self.iter.next\n",
    "    \n",
    "    def move_left(self):\n",
    "        self.iter = self.iter.previous\n",
    "\n",
    "    def append(self, value):\n",
    "        if self.len == 0:\n",
    "            self.current = self.head = node(data = value)\n",
    "            self.current.next = self.current.previous = self.current\n",
    "            self.iter = self.head\n",
    "        else:\n",
    "            self.current.next = node(data = value, prev = self.current, nex = self.head)\n",
    "            self.head.previous = self.current.next\n",
    "            self.current = self.current.next\n",
    "        self.len +=1    \n",
    "    \n",
    "    def getlen(self):\n",
    "        return self.len\n",
    "\n",
    "    def delete(self):\n",
    "        assert (self.len != 0), \"no node left\"\n",
    "        self.len -=1\n",
    "        self.iter.previous.next = self.iter.next\n",
    "        self.iter.next.previous = self.iter.previous\n",
    "        a = self.iter\n",
    "        self.iter = self.iter.next\n",
    "        if a == self.head:\n",
    "            self.head = self.head.next\n",
    "        value = a.data\n",
    "        del a\n",
    "        return value"
   ]
  },
  {
   "cell_type": "markdown",
   "metadata": {},
   "source": [
    "그 외의 코드 부분이다. 책에서 나온 개념을 그대로 사용하였는데도 시간초과가 뜬다."
   ]
  },
  {
   "cell_type": "code",
   "execution_count": null,
   "metadata": {},
   "outputs": [],
   "source": [
    "import time\n",
    "\n",
    "t = 0.0\n",
    "           \n",
    "for _ in range(int(input())):\n",
    "    link = linked()\n",
    "    result = []\n",
    "    n, k = map(int, input().split())\n",
    "    a = time.time()\n",
    "    for i in range(1,n):\n",
    "        link.append(str(i+1))\n",
    "    cnt = 0\n",
    "    while link.getlen() > 2:\n",
    "        cnt+=1\n",
    "        if cnt == k:\n",
    "            cnt = 0\n",
    "            link.delete()\n",
    "        else:\n",
    "            link.move_right()\n",
    "    while link.getlen() != 0:\n",
    "        result.append(link.delete())\n",
    "    result.sort()\n",
    "    result = ' '.join(result)\n",
    "    print(result)\n",
    "\n",
    "    del link\n",
    "    b = time.time()\n",
    "    t += (b-a)\n",
    "print(t)"
   ]
  },
  {
   "cell_type": "markdown",
   "metadata": {},
   "source": [
    "실제 같은 데이터를 넣고 vscode에서 돌려본 결과 0.0028448104858398438로 기존보다도 크게 나온다. 전체 크기가 많이 변하면 달라질 수도 있겠지만 어쨌든 알고스팟에서 시간초과가 떴다는 것은 이것도 안된다는 건데 왜 이럴깡?"
   ]
  },
  {
   "cell_type": "markdown",
   "metadata": {},
   "source": [
    "# 방법3\n",
    "### <strike> deque에서 반대로 접근하여 제거할때 O(1)만큼 사용하기?!</strike>\n",
    "> * <strike> 이거 정리하다가 생각난 방법인데 deque의 문제가 맨 앞에 값을 지우기 때문이라면 배열 맨 뒤부터 접근하여 rotate(1)을 하면서 맨 뒷 값을 지우는건 어떨까? 사실 rotate 자체가 O(n)이라서 큰 효과가 없을 것 같지만 한번 해보지 뭐 안 어려우니깐.</strike>\n",
    "\n",
    "popleft가 O(n)인 줄 알고 했는데 아니라고 합니다. 그래서 같은 값이 나올 줄 알았는데 그건 아니다?!"
   ]
  },
  {
   "cell_type": "code",
   "execution_count": null,
   "metadata": {},
   "outputs": [],
   "source": [
    "import time\n",
    "from collections import deque\n",
    "t = 0.0\n",
    "for _ in range(int(input())):\n",
    "    n, k = map(int, input().split())\n",
    "    a = time.time()\n",
    "    number = deque()\n",
    "    result = 0\n",
    "    for i in range(n,1,-1):\n",
    "        number.append(str(i))\n",
    "    # 숫자 다 넣어짐\n",
    "\n",
    "    i = 0\n",
    "    while len(number) > 2:\n",
    "        i +=1\n",
    "        if i != k:\n",
    "            number.rotate(1)\n",
    "        else:\n",
    "            i = 0\n",
    "            number.pop()\n",
    "    number = list(sorted(number))\n",
    "    result = ' '.join(number)\n",
    "    print(result)\n",
    "    b = time.time()\n",
    "    t+= (b-a)\n",
    "print(t)"
   ]
  },
  {
   "cell_type": "markdown",
   "metadata": {},
   "source": [
    "이건 결과 0.0041484832763671875이다. 더 늘었다?! ㄴㅇㄱ\n",
    "\n",
    "컴터 상태에 따라 다른듯 이게 0.0019나올 때도 있고 위에 방법 1이 0.0028 이렇게 나올때도 있넹.. ㅡㅡ"
   ]
  },
  {
   "cell_type": "code",
   "execution_count": null,
   "metadata": {},
   "outputs": [],
   "source": []
  }
 ],
 "metadata": {
  "kernelspec": {
   "display_name": "Python [conda env:Anaconda3]",
   "language": "python",
   "name": "conda-env-Anaconda3-py"
  },
  "language_info": {
   "codemirror_mode": {
    "name": "ipython",
    "version": 3
   },
   "file_extension": ".py",
   "mimetype": "text/x-python",
   "name": "python",
   "nbconvert_exporter": "python",
   "pygments_lexer": "ipython3",
   "version": "3.5.6"
  }
 },
 "nbformat": 4,
 "nbformat_minor": 2
}
