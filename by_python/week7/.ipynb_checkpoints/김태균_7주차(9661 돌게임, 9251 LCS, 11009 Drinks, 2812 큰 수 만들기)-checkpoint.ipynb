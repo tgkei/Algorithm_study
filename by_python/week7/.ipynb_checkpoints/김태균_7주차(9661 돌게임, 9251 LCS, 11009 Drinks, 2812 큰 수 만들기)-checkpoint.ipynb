{
 "cells": [
  {
   "cell_type": "markdown",
   "metadata": {},
   "source": [
    "# 9661 돌 게임 7"
   ]
  },
  {
   "cell_type": "code",
   "execution_count": null,
   "metadata": {},
   "outputs": [],
   "source": []
  },
  {
   "cell_type": "markdown",
   "metadata": {},
   "source": [
    "# 9251 LCS"
   ]
  },
  {
   "cell_type": "markdown",
   "metadata": {},
   "source": [
    "<i><font size = 2>문제 링크: https://www.acmicpc.net/problem/9251 </font></i><br>\n",
    "\n",
    "LCS라고 컴퓨터 분야에서 유명한 알고리즘 문제 중 하나이다.\n",
    "sorting들 처럼 이미 몇년에 걸쳐서 만들어준 알고리즘 중 하나로 익혀두길 바란다.\n",
    "LCS 문제 자체에 대한 3가지 경우를 안다면 간단하게 풀 수 있다.\n",
    "\n",
    "Notation은 다음과 같다\n",
    ">X = 문자열 (1부터 시작하는 i로 $x_i$를 사용하여 X의 문자와 위치를 표현한다)<br>\n",
    "m = 문자열 X의 길이<br><br>\n",
    "Y = 문자열 (1부터 시작하는 i로 $y_i$를 사용하여 Y읭 문자와 위치를 표현한다)<br>\n",
    "n = 문자열 Y의 길이<br><br>\n",
    "Z = Common subsequence (소문자와 i를 사용하여 각 element를 표현한다)<br>\n",
    "o = 문자열 Z의 길이<br>\n",
    "\n",
    "경우는 다음과 같다\n",
    "><font size = \"3\"><b>경우 1</b></font><br>\n",
    "$x_m$ = $y_n$이면 $z_o$ = $x_m$ = $y_n$이다.\n",
    "이 때, $Z_{o-1}$는 $X_{m-1}$과 $Y_{n-1}$의 LCS이다.\n",
    "\n",
    "><font size = \"3\"><b>경우 2</b></font><br>\n",
    "$x_m$ != $y_n$이면 $z_o$ != $x_m$이다.\n",
    "이 때, $Z_{o}$는 $X_{m-1}$과 $Y_{n}$의 LCS이다.\n",
    "\n",
    "><font size = \"3\"><b>경우 3</b></font><br>\n",
    "$x_m$ != $y_n$이면 $z_o$ != $y_m$이다.\n",
    "이 때, $Z_{o}$는 $Y_{n-1}$과 $X_{m}$의 LCS이다.\n",
    "\n",
    "<font size =\"2\"><i>여기서 경우 2와 3은 항상 함께 발생한다</i></font>\n",
    "\n",
    "이 기본 경우들을 마음에 품고 이걸 프로그램화 하면 간단하다.\n",
    "Dynamic programming을 이용하여 m개의 줄과 n개의 열을 가지는 배열을 생성하고 모두 0으로 초기화한다.\n",
    "만약 $x_m$과 $y_n$이 같다면, 경우 1에 따라 그보다 $X_{m-1}$과 $Y_{n-1}$의 LCS값에 +1을 m행 n열에 저장하면된다.\n",
    "만약 다르다면, 경우 2, 3에 따라 배열[m][n-1]과 배열[m-1][n]의 값 중 더 큰 값을 고르면 된다. (항상 최대가 되게 하기 위하여)\n",
    "\n",
    "사실 이 수학적인 개념을 프로그래밍에 바로 도입한다면 recursive하게 bottom_up을 사용하는 전형적인 재귀와 DP를 섞어야 하지만 이 문제의 경우 저 기본 개념을 이용하면 Top bottom 방식을 사용해도 문제가 없음을 자명할 수 있기에 Top bottom을 사용하겠다. (구현이 더 쉽고 더 직관적이라는 장점이 있다.)"
   ]
  },
  {
   "cell_type": "code",
   "execution_count": null,
   "metadata": {},
   "outputs": [],
   "source": [
    "str1 = input()\n",
    "str2 = input()\n",
    "\n",
    "check = [[0 for _ in range(len(str2)+1)] for _ in range(len(str1)+1)]\n",
    "\n",
    "i, j = 1, 1\n",
    "\n",
    "for first in str1:\n",
    "    for second in str2:\n",
    "        if first == second:\n",
    "            check[i][j] = check[i-1][j-1]+1\n",
    "        else:\n",
    "            check[i][j] = max(check[i-1][j],check[i][j-1])\n",
    "        j += 1\n",
    "    i += 1\n",
    "    j=1\n",
    "\n",
    "print(check[-1][-1])"
   ]
  },
  {
   "cell_type": "markdown",
   "metadata": {},
   "source": [
    "# 11009 Drinks"
   ]
  },
  {
   "cell_type": "markdown",
   "metadata": {},
   "source": [
    "# 2812 큰수만들기\n",
    "\n",
    "<i><font size = 2>문제 링크: https://www.acmicpc.net/problem/2812 </font></i><br>\n",
    "STACK 특집 때 풀던 5주차 2812번 탑 문제를 응용하여 풀었다. (<i><font size= 2>탑 문제 링크: https://www.acmicpc.net/problem/2493</font></i>)\n",
    "\n",
    "주어진 숫자들을 앞에서 부터 순차적으로 접근하면서 그 앞에 값 중 자신의 값보다 작은 값은 stack에서 pop을 해주고 자신보다 큰 값을 만나거나, stack이 비었을 경우 자기자신을 추가하는 방식이다. 만약 123456.. 과 같은 숫자가 있고 가장 큰 한 숫자를 선택한다고 해보자. 이 경우 stack에는 1-> 2-> 3-> 4-> 5 -> 6이 들어오고 뒤의 숫자에 따라 스택은 언제든 변화가 가능하다. 이때 생각해줘야 하는 조건이 특정 경우의 경우 가장 큰 수부터 순차적으로 작아지는 스택을 만들 수 없다는 것인데 그 이유는 만약 주어진 숫자들이 42345이고 K가 3이라서 2개의 숫자를 남겨야 할 경우, 위의 설명한 방법을 사용하면 5, 하나가 남게 된다. 이를 방지하기 위해서 스택의 변화가 이뤄질 때 마다, 현재 스택의 길이와, 아직 접근하지 않은 숫자들의 갯수를 더 해서 구하고자 하는 경우의 길이와 같은 경우 중단 시켜 주면 된다. 4가 저장되어 있는 스택에서 5가 저장되려고 할 때 스택의 길이가 1이고 남은 숫자열의 길이가 1이기 때문에 stack을 제거하지 않고 stack을 이루는 값들과 남은 값으로 결과를 만들면 된다. 마지막으로 생각해줘야 하는 경우는 stack을 만들었는데 그 크기가 목표로하는 길이보다 길 경우이다. 이럴 때는 간단하게 stack에서 목표하는 길이만큼의 값만으로 문자열을 만들면 된다."
   ]
  },
  {
   "cell_type": "code",
   "execution_count": null,
   "metadata": {},
   "outputs": [],
   "source": [
    "N, K =map(int,input().split())\n",
    "nums = input()\n",
    "\n",
    "target = N-K\n",
    "stack = []\n",
    "len_stack = len(stack)\n",
    "len_remain = len(nums)\n",
    "remain = []\n",
    "done = False\n",
    "\n",
    "for i, num in enumerate(nums):\n",
    "    len_remain -= 1\n",
    "    if len_stack != 0:\n",
    "        while stack and stack[-1] < num:\n",
    "            stack.pop()\n",
    "            len_stack -= 1\n",
    "            if len_remain+ len_stack+1 == target:\n",
    "                stack.append(num)\n",
    "                len_stack +=1\n",
    "                break\n",
    "        else:\n",
    "            len_stack+=1\n",
    "            stack.append(num)\n",
    "    else:\n",
    "        stack.append(num)\n",
    "        len_stack += 1\n",
    "\n",
    "    # in case of sum of the number of elements in stack and remaining words equals to the target\n",
    "    if len_remain + len_stack == target:\n",
    "        if len_remain != 0:\n",
    "            result = ''.join(stack)+''.join(nums[i+1:])\n",
    "            done = True\n",
    "        break\n",
    "\n",
    "if not done:\n",
    "    result = ''.join(stack[:target])\n",
    "\n",
    "print(result)\n"
   ]
  }
 ],
 "metadata": {
  "kernelspec": {
   "display_name": "Python [conda env:Anaconda3]",
   "language": "python",
   "name": "conda-env-Anaconda3-py"
  },
  "language_info": {
   "codemirror_mode": {
    "name": "ipython",
    "version": 3
   },
   "file_extension": ".py",
   "mimetype": "text/x-python",
   "name": "python",
   "nbconvert_exporter": "python",
   "pygments_lexer": "ipython3",
   "version": "3.5.6"
  }
 },
 "nbformat": 4,
 "nbformat_minor": 2
}
