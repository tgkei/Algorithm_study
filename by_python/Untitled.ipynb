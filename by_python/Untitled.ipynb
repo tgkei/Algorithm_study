{
 "cells": [
  {
   "cell_type": "code",
   "execution_count": 3,
   "metadata": {},
   "outputs": [],
   "source": [
    "input = \"5 1 2 7 8 9\\n6 3 4 2 2 2 2\\n9 0 1 2 3 4 0 1 2 3\\n0\""
   ]
  },
  {
   "cell_type": "code",
   "execution_count": 41,
   "metadata": {},
   "outputs": [],
   "source": [
    "input_lists = input.split('\\n')"
   ]
  },
  {
   "cell_type": "code",
   "execution_count": 57,
   "metadata": {},
   "outputs": [
    {
     "name": "stdout",
     "output_type": "stream",
     "text": [
      "1 : 5 1 2 7 8 9\n",
      "2 : 6 3 4 2 2 2 2\n",
      "3 : 9 0 1 2 3 4 0 1 2 3\n",
      "4 : 0\n"
     ]
    }
   ],
   "source": [
    "for i in range(len(input_lists)):\n",
    "    print(i+1, ':' , input_lists[i])"
   ]
  },
  {
   "cell_type": "code",
   "execution_count": 44,
   "metadata": {},
   "outputs": [],
   "source": [
    "answer=[]\n",
    "counter = {0:0,\n",
    "           1:0,\n",
    "           2:0,\n",
    "           3:0,\n",
    "           4:0,\n",
    "           5:0,\n",
    "           6:0,\n",
    "           7:0,\n",
    "           8:0,\n",
    "           9:0\n",
    "          }"
   ]
  },
  {
   "cell_type": "code",
   "execution_count": 46,
   "metadata": {},
   "outputs": [
    {
     "name": "stdout",
     "output_type": "stream",
     "text": [
      "0\n"
     ]
    }
   ],
   "source": [
    "counter[0]-=1\n",
    "print(counter[0])"
   ]
  },
  {
   "cell_type": "markdown",
   "metadata": {},
   "source": [
    "# Version 1 with two values"
   ]
  },
  {
   "cell_type": "code",
   "execution_count": 40,
   "metadata": {},
   "outputs": [],
   "source": [
    "def find_min(start = False):\n",
    "    start_num = 0\n",
    "    if start:\n",
    "        start_num = 1\n",
    "        \n",
    "    for i in range(start_num, 10):\n",
    "        if counter[i] != 0:\n",
    "            min_1 = i\n",
    "            counter[i] -= 1 \n",
    "            if counter[i] >=1:\n",
    "                min_2 = i\n",
    "                counter[i] -= 1\n",
    "            else:\n",
    "                for j in range(i+1,10):\n",
    "                    if counter[j] != 0:\n",
    "                        min_2 = j\n",
    "                        counter[j]-=1\n",
    "                        break\n",
    "            break\n",
    "    return min_1, min_2"
   ]
  },
  {
   "cell_type": "markdown",
   "metadata": {},
   "source": [
    "Re do from here"
   ]
  },
  {
   "cell_type": "code",
   "execution_count": 162,
   "metadata": {},
   "outputs": [
    {
     "name": "stdout",
     "output_type": "stream",
     "text": [
      "{0: 0, 1: 1, 2: 1, 3: 0, 4: 0, 5: 0, 6: 0, 7: 1, 8: 1, 9: 1}\n",
      "0 번째 최솟값 : 1 2\n",
      "0 번째 값:  10 20\n",
      "1 번째 최솟값 : 7 8\n",
      "1 번째 값:  17 28\n",
      "Final value 179 28\n",
      "{0: 0, 1: 0, 2: 4, 3: 1, 4: 1, 5: 0, 6: 0, 7: 0, 8: 0, 9: 0}\n",
      "0 번째 최솟값 : 2 2\n",
      "0 번째 값:  200 200\n",
      "1 번째 최솟값 : 2 2\n",
      "1 번째 값:  220 220\n",
      "2 번째 최솟값 : 3 4\n",
      "2 번째 값:  223 224\n",
      "Final value 223 224\n",
      "{0: 2, 1: 2, 2: 2, 3: 2, 4: 1, 5: 0, 6: 0, 7: 0, 8: 0, 9: 0}\n",
      "0 번째 최솟값 : 1 1\n",
      "0 번째 값:  1000 1000\n",
      "1 번째 최솟값 : 0 0\n",
      "1 번째 값:  1000 1000\n",
      "2 번째 최솟값 : 2 2\n",
      "2 번째 값:  1020 1020\n",
      "3 번째 최솟값 : 3 3\n",
      "3 번째 값:  1023 1023\n",
      "Final value 10234 1023\n",
      "{0: 0, 1: 0, 2: 0, 3: 0, 4: 0, 5: 0, 6: 0, 7: 0, 8: 0, 9: 0}\n",
      "Final value 0 0\n"
     ]
    }
   ],
   "source": [
    "answer = []\n",
    "\n",
    "num_1 = 0\n",
    "num_2 = 0\n",
    "counter = {0:0,\n",
    "           1:0,\n",
    "           2:0,\n",
    "           3:0,\n",
    "           4:0,\n",
    "           5:0,\n",
    "           6:0,\n",
    "           7:0,\n",
    "           8:0,\n",
    "           9:0\n",
    "          }\n",
    "\n",
    "counter[9]\n",
    "\n",
    "for input_list in input_lists:\n",
    "    \n",
    "    # input data pre-processing\n",
    "    inputs = input_list.split(' ')\n",
    "    inputs_len = int(inputs[0])\n",
    "    \n",
    "    # change dictionary values\n",
    "    for key,value in enumerate(inputs):\n",
    "        if key != 0:\n",
    "            value = int(value)\n",
    "            counter[value] += 1\n",
    "    \n",
    "    print(counter)\n",
    "    # version 1 with 2 numbers\n",
    "        \n",
    "    for i in range(inputs_len //2):\n",
    "        if i == 0:\n",
    "            min_1, min_2 = find_min(True)\n",
    "        else:\n",
    "            min_1, min_2 = find_min()\n",
    "        print(i,\"번째 최솟값 :\", min_1, min_2)\n",
    "        num_1 += (min_1 * 10**(inputs_len//2-i-1))\n",
    "        num_2 += (min_2 * 10**(inputs_len//2-i-1))\n",
    "        print(i,\"번째 값: \", num_1, num_2)\n",
    "        \n",
    "    if inputs_len % 2 == 1:\n",
    "        for key, value in counter.items():\n",
    "            if value != 0:\n",
    "                num_1 = num_1 * 10 + key\n",
    "                counter[key] -= 1\n",
    "    \n",
    "    print(\"Final value\",num_1, num_2)\n",
    "    \n",
    "    answer.append(num_1+num_2)\n",
    "    num_1 = 0\n",
    "    num_2 = 0"
   ]
  },
  {
   "cell_type": "code",
   "execution_count": 163,
   "metadata": {},
   "outputs": [
    {
     "data": {
      "text/plain": [
       "[207, 447, 11257, 0]"
      ]
     },
     "execution_count": 163,
     "metadata": {},
     "output_type": "execute_result"
    }
   ],
   "source": [
    "answer"
   ]
  },
  {
   "cell_type": "code",
   "execution_count": null,
   "metadata": {},
   "outputs": [],
   "source": []
  }
 ],
 "metadata": {
  "kernelspec": {
   "display_name": "Python [conda env:deep-learning]",
   "language": "python",
   "name": "conda-env-deep-learning-py"
  },
  "language_info": {
   "codemirror_mode": {
    "name": "ipython",
    "version": 3
   },
   "file_extension": ".py",
   "mimetype": "text/x-python",
   "name": "python",
   "nbconvert_exporter": "python",
   "pygments_lexer": "ipython3",
   "version": "3.7.2"
  }
 },
 "nbformat": 4,
 "nbformat_minor": 2
}
