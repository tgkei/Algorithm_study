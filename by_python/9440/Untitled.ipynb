{
 "cells": [
  {
   "cell_type": "markdown",
   "metadata": {},
   "source": [
    "# 9440번 - 숫자 더하기"
   ]
  },
  {
   "cell_type": "markdown",
   "metadata": {},
   "source": [
    "### 기본 접근법\n",
    ">1. 가장 작은 숫자들을 순차적으로 가장 왼쪽에 두면 된다. (이때 14, 27 이던 17, 24던 상관 없음)\n",
    "2. 입력 받은 숫자들의 갯수를 세는 카운터 배열을 만들어서 각 숫자의 갯수를 센다.\n",
    "3. 배열을 사용하여 숫자를 하나씩 사용한다. (이때 첫 digit에 숫자로 0이 오지 못하게 해야 한다.)"
   ]
  },
  {
   "cell_type": "markdown",
   "metadata": {},
   "source": [
    "### 예시 Input 만들고 확인"
   ]
  },
  {
   "cell_type": "code",
   "execution_count": 10,
   "metadata": {},
   "outputs": [],
   "source": [
    "input = \"5 1 2 7 8 9\\n6 3 4 2 2 2 2\\n9 0 1 2 3 4 0 1 2 3\\n0\""
   ]
  },
  {
   "cell_type": "code",
   "execution_count": 11,
   "metadata": {},
   "outputs": [],
   "source": [
    "input_lists = input.split('\\n')"
   ]
  },
  {
   "cell_type": "code",
   "execution_count": 12,
   "metadata": {},
   "outputs": [
    {
     "name": "stdout",
     "output_type": "stream",
     "text": [
      "1 : 5 1 2 7 8 9\n",
      "2 : 6 3 4 2 2 2 2\n",
      "3 : 9 0 1 2 3 4 0 1 2 3\n",
      "4 : 0\n"
     ]
    }
   ],
   "source": [
    "for i in range(len(input_lists)):\n",
    "    print(i+1, ':' , input_lists[i])"
   ]
  },
  {
   "cell_type": "markdown",
   "metadata": {},
   "source": [
    "### counter 배열 생성"
   ]
  },
  {
   "cell_type": "code",
   "execution_count": 13,
   "metadata": {},
   "outputs": [],
   "source": [
    "answer=[]\n",
    "counter = {0:0,\n",
    "           1:0,\n",
    "           2:0,\n",
    "           3:0,\n",
    "           4:0,\n",
    "           5:0,\n",
    "           6:0,\n",
    "           7:0,\n",
    "           8:0,\n",
    "           9:0\n",
    "          }"
   ]
  },
  {
   "cell_type": "markdown",
   "metadata": {},
   "source": [
    "### 가장 작은 값 불러내는 함수 생성\n",
    "* 이때 start argument로 첫 수일 경우 0을 제외"
   ]
  },
  {
   "cell_type": "code",
   "execution_count": 14,
   "metadata": {},
   "outputs": [],
   "source": [
    "def find_min(start = False):\n",
    "    # 시작 값인지 아닌지에 따라서 for 문 시작이 0일지 1일지 나뉨\n",
    "    start_num = 0\n",
    "    if start:\n",
    "        start_num = 1\n",
    "        \n",
    "    for i in range(start_num, 10):\n",
    "        if counter[i] != 0:\n",
    "            min_1 = i\n",
    "            counter[i] -= 1\n",
    "            if counter[i] >=1:  ## 중복된 값이 2번 이상 나올 경우\n",
    "                min_2 = i\n",
    "                counter[i] -= 1\n",
    "            else:\n",
    "                for j in range(i+1,10):\n",
    "                    if counter[j] != 0:\n",
    "                        min_2 = j\n",
    "                        counter[j]-=1\n",
    "                        break\n",
    "            break\n",
    "    return min_1, min_2"
   ]
  },
  {
   "cell_type": "markdown",
   "metadata": {},
   "source": [
    "### 메인 부분"
   ]
  },
  {
   "cell_type": "code",
   "execution_count": 15,
   "metadata": {},
   "outputs": [
    {
     "name": "stdout",
     "output_type": "stream",
     "text": [
      "Final value 179 28\n",
      "Final value 223 224\n",
      "Final value 10234 1023\n",
      "Final value 0 0\n"
     ]
    }
   ],
   "source": [
    "num_1 = 0\n",
    "num_2 = 0\n",
    "\n",
    "for input_list in input_lists: ## 실제로 무쓸모 부분\n",
    "    \n",
    "    # input data pre-processing 여기도 무쓸모\n",
    "    inputs = input_list.split(' ')\n",
    "    inputs_len = int(inputs[0])\n",
    "    \n",
    "    # change dictionary values  기존에 만들어 놓은 counter dictionary 값 변경\n",
    "    for key,value in enumerate(inputs):\n",
    "        if key != 0:\n",
    "            value = int(value)\n",
    "            counter[value] += 1\n",
    "    \n",
    "    # 최솟값들 찾는 부분 여기서 input 갯수의 2만큼 나뉜 값만큼 반복\n",
    "    for i in range(inputs_len //2):\n",
    "        if i == 0:\n",
    "            min_1, min_2 = find_min(True)\n",
    "        else:\n",
    "            min_1, min_2 = find_min()\n",
    "        num_1 += (min_1 * 10**(inputs_len//2-i-1))\n",
    "        num_2 += (min_2 * 10**(inputs_len//2-i-1))\n",
    "    \n",
    "    # 들어온 숫자의 갯수가 홀수라면 가장 큰 값을 마지막에 추가해줌\n",
    "    if inputs_len % 2 == 1:\n",
    "        for key, value in counter.items():\n",
    "            if value != 0:\n",
    "                num_1 = num_1 * 10 + key\n",
    "                counter[key] -= 1\n",
    "    \n",
    "    print(\"Final value\",num_1, num_2)\n",
    "    \n",
    "    # 출력후 num_1 과 num_2 0으로 초기화\n",
    "    answer.append(num_1+num_2)  #실제 코딩 테스트에서 필요 없을 듯\n",
    "    num_1 = 0\n",
    "    num_2 = 0"
   ]
  },
  {
   "cell_type": "code",
   "execution_count": 16,
   "metadata": {},
   "outputs": [
    {
     "data": {
      "text/plain": [
       "[207, 447, 11257, 0]"
      ]
     },
     "execution_count": 16,
     "metadata": {},
     "output_type": "execute_result"
    }
   ],
   "source": [
    "answer"
   ]
  }
 ],
 "metadata": {
  "kernelspec": {
   "display_name": "Python [conda env:deep-learning]",
   "language": "python",
   "name": "conda-env-deep-learning-py"
  },
  "language_info": {
   "codemirror_mode": {
    "name": "ipython",
    "version": 3
   },
   "file_extension": ".py",
   "mimetype": "text/x-python",
   "name": "python",
   "nbconvert_exporter": "python",
   "pygments_lexer": "ipython3",
   "version": "3.7.2"
  }
 },
 "nbformat": 4,
 "nbformat_minor": 2
}
