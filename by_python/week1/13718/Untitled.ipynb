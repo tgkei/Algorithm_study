{
 "cells": [
  {
   "cell_type": "markdown",
   "metadata": {},
   "source": [
    "# 13718"
   ]
  },
  {
   "cell_type": "markdown",
   "metadata": {},
   "source": [
    "### 접근방법\n",
    "> 1. 워드의 길이 K개와 워드의 갯수 M개가 처음에 주어지는데 이는 만들 수 있는 조합의 수가 'K^M'임을 알 수 있다.\n",
    "2. $K^M$개의 경우의 수 중 오름차순으로 하였을 때 X번째의 값만 알면 된다. 즉, 한 자리당 K개의 숫자가 가능한 M번째 digit까지의 숫자를 고르면 된다! \n",
    "3. K 진수 값을 구하는 공식을 사용하여 숫자로 변환한다. 그 숫자는 가능한 K개의 알파벳을 오름차순으로 하였을 때 특정 위치의에 해당하는 알파벳으로 변환 될 수 있다.\n",
    "4. 모든 값에 대하여 3번을 적용하고 기존에 string에 특정 부분을 바꿔준다"
   ]
  },
  {
   "cell_type": "markdown",
   "metadata": {},
   "source": [
    "### 예시\n",
    "문제에서 주어진 첫번째 예시를 사용해보자.\n",
    "    \n",
    "    9 2 3 7\n",
    "    sol\n",
    "    znu\n",
    "\n",
    "sol과 znu를 오름 차순으로 정리하면 los, nuz가 된다.\n",
    "\n",
    ">K = 3, M = 2\n",
    "즉, 3진수로 2 digit을 가진 숫자로 표현 가능하다\n",
    ">* 00 = l n\n",
    "* 01 = l u\n",
    "* 02 = l z\n",
    "* 10 = o n\n",
    "* 11 = o u\n",
    "* 12 = o z\n",
    "* 20 = s n (7번째)\n",
    "* 21 = s u\n",
    "* 22 = s z\n"
   ]
  },
  {
   "cell_type": "code",
   "execution_count": 7,
   "metadata": {},
   "outputs": [
    {
     "name": "stdout",
     "output_type": "stream",
     "text": [
      "9 2 3 7\n",
      "po#olje#i\n",
      "sol\n",
      "znu\n",
      "posoljeni\n"
     ]
    }
   ],
   "source": [
    "numbers = input()\n",
    "original = input()\n",
    "_, M, K, X = numbers.split()\n",
    "M, K , X =int(M), int(K), int(X)-1\n",
    "\n",
    "remainder=[]\n",
    "\n",
    "# K+1 진수로 바꿔주는 부분\n",
    "while X >= K:\n",
    "    remainder.append(X%(K)) ## 이때 index가 1 더해져 있음\n",
    "    X = X//(K) \n",
    "\n",
    "remainder.append(X) ## 다 나누고 남은 나머지도 remainder에 넣어줌\n",
    "\n",
    "if len(remainder) != M:\n",
    "    for _ in range(M-len(remainder)):\n",
    "        remainder.append(0)\n",
    "\n",
    "letter =[]\n",
    "\n",
    "# 저장한 remainder 리스트에서 값을 하나씩 빼와서 해당 단어를 입력 받고 바꾸기\n",
    "# 이때 remainder가 먼저 없어지는 경우도 생각해야 함 씨부렐\n",
    "while remainder:\n",
    "    #입력 받음\n",
    "    letters = input()\n",
    "\n",
    "    #입력 받은 스트링을 list로 바꿈\n",
    "    for i in range(len(letters)):\n",
    "        letter.append(letters[i])\n",
    "\n",
    "    letter.sort()\n",
    "    \n",
    "    original = original.replace('#',letter[remainder.pop()],1)\n",
    "    letter=[]\n",
    "\n",
    "print(original)"
   ]
  }
 ],
 "metadata": {
  "kernelspec": {
   "display_name": "Python [conda env:deep-learning]",
   "language": "python",
   "name": "conda-env-deep-learning-py"
  },
  "language_info": {
   "codemirror_mode": {
    "name": "ipython",
    "version": 3
   },
   "file_extension": ".py",
   "mimetype": "text/x-python",
   "name": "python",
   "nbconvert_exporter": "python",
   "pygments_lexer": "ipython3",
   "version": "3.7.2"
  }
 },
 "nbformat": 4,
 "nbformat_minor": 2
}
