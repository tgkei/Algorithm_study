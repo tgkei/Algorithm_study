{
 "cells": [
  {
   "cell_type": "markdown",
   "metadata": {},
   "source": [
    "# 2018 Q1 SAVING THE UNIVERSE AGAIN\n",
    "\n",
    "## 방법 1 (틀림)\n",
    "풀이\n",
    "> * 만약 S의 갯수가 8인데 D가 9이면 IMPOSSIBLE이다. 즉 S의 갯수와 D의 값을 비교로 POSSIBLE 인지 IMPOSSIBLE인지 알 수 있다.\n",
    "* 현재 총 점수가 total이라고 할때 total이 D보다 크다는 면, total에서 가장 큰 숫자의 S와 C를 바꾸는게 가장 효율 적이다\n",
    "* 리스트를 생성, C가 나오거나 시작 시 list에 0을 더하고 S가 나올때 마다 + 1을 해준다. 만약 CSS라면 [0, 2]의 형태가 된다.\n",
    "* 위의 [0, 2]가 뜻하는 것은 2 + 2 이므로, 만약 total에서 점수를 빼고 싶다며는 2-1, 2-1의 순서로 값을 빼야한다. 즉 list 뒤에서부터 접근하여 $2^(list의 길이 (2) - 2)$를 하면 빼야하는 값이 나온다. \n",
    "* 이때 주의할 점은 만약 S의 값들이 2, 4 , 8, 8 respectively라면, [0, 1, 1, 2]가 되고 이때 마지막 2를 두번 뺄 때 바로 앞의 1은 2가 증가 해야 한다. 왜냐하면 8이 나누기 2를 하면 4가되어 리스트 3번째 인덱스의 값이 증가해야 하기 때문이다."
   ]
  },
  {
   "cell_type": "code",
   "execution_count": 1,
   "metadata": {},
   "outputs": [
    {
     "name": "stdout",
     "output_type": "stream",
     "text": [
      "6\n",
      "1 CS\n",
      "Case #1: 1\n",
      "2 CS\n",
      "Case #2: 0\n",
      "1 SS\n",
      "Case #3: IMPOSSIBLE\n",
      "6 SCCSSC\n",
      "Case #4: 2\n",
      "2 CC\n",
      "Case #5: 0\n",
      "3 CSCSS\n",
      "Case #6: 5\n"
     ]
    }
   ],
   "source": [
    "for j in range(int(input())):\n",
    "    result = 0\n",
    "    d, inst = input().split()\n",
    "    d = int(d)\n",
    "    inst = list(inst)\n",
    "    num_s = inst.count('S')\n",
    "    \n",
    "    # Impossible case\n",
    "    if num_s > d:\n",
    "        print(\"Case #{}: IMPOSSIBLE\".format(j+1))\n",
    "        continue\n",
    "    \n",
    "    # Possible case\n",
    "    dic = [0]\n",
    "    \n",
    "    i = 0\n",
    "    total = 0\n",
    "    new_S = True\n",
    "    for char in inst:\n",
    "        if char == 'S':\n",
    "            total += (2**i)\n",
    "                dic[i]+=1\n",
    "        else:\n",
    "            new_S = True\n",
    "            i+=1\n",
    "            dic.append(0)\n",
    "    \n",
    "    score = total\n",
    "    while d < score:\n",
    "        if dic[-1] ==0:\n",
    "            dic.pop()\n",
    "        result +=1\n",
    "        score -= 2**(len(dic)-2)\n",
    "        dic[-1] -= 1\n",
    "        dic[-2] += 1\n",
    "\n",
    "    print(\"Case #{}: {}\".format(j+1,result))"
   ]
  },
  {
   "cell_type": "markdown",
   "metadata": {},
   "source": [
    "예시는 모두 맞는데 어디가 틀린지 모르겠다.\n",
    "사실 메모리랑 시간초를 볼 경우 엄청나게 널널하기 때문에 무식하게 돌려도 된다. 그래서 다시 무식하게 돌리는 알고리즘을 짜봤다.\n",
    "## 방법 2 (맞음)\n",
    "풀이법:\n",
    "> 완전 탐색으로 무식하게 풀기"
   ]
  },
  {
   "cell_type": "code",
   "execution_count": null,
   "metadata": {},
   "outputs": [],
   "source": [
    "def damage(S):\n",
    "    charge = 1\n",
    "    ans = 0\n",
    "    for c in S:\n",
    "        if c == \"S\":\n",
    "            ans+=charge\n",
    "        else:\n",
    "            charge *=2\n",
    "    return ans\n",
    "\n",
    "for case in range(int(input())):\n",
    "    d, S = input().split()\n",
    "    d = int(d)\n",
    "    S = list(S)\n",
    "    ans = 0\n",
    "    while damage(S)>d:\n",
    "        for i in reversed(range(len(S)-1)):\n",
    "            if S[i] == 'C' and S[i+1] =='S':\n",
    "                S[i] = 'S'\n",
    "                S[i+1] = 'C'\n",
    "                ans +=1\n",
    "                break\n",
    "        else:\n",
    "            break\n",
    "    \n",
    "    if damage(S)>d:\n",
    "        print(\"Case #{}: IMPOSSIBLE\".format(case+1))\n",
    "    else:\n",
    "        print(\"Case #{}: {}\".format(case+1, ans))"
   ]
  },
  {
   "cell_type": "markdown",
   "metadata": {},
   "source": [
    "# 2018 Q2 Trouble Sort"
   ]
  },
  {
   "cell_type": "code",
   "execution_count": null,
   "metadata": {},
   "outputs": [],
   "source": []
  }
 ],
 "metadata": {
  "kernelspec": {
   "display_name": "Python [conda env:Anaconda3]",
   "language": "python",
   "name": "conda-env-Anaconda3-py"
  },
  "language_info": {
   "codemirror_mode": {
    "name": "ipython",
    "version": 3
   },
   "file_extension": ".py",
   "mimetype": "text/x-python",
   "name": "python",
   "nbconvert_exporter": "python",
   "pygments_lexer": "ipython3",
   "version": "3.5.6"
  }
 },
 "nbformat": 4,
 "nbformat_minor": 2
}
