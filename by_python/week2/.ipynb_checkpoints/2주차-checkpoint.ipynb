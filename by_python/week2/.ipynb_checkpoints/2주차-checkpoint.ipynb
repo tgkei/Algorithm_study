{
 "cells": [
  {
   "cell_type": "markdown",
   "metadata": {},
   "source": [
    "# 2주차"
   ]
  },
  {
   "cell_type": "markdown",
   "metadata": {},
   "source": [
    "## 9020번\n",
    "#### 풀이법\n",
    "> 1. n보다 2만큼 작은 소수를 모두 구한다. (가장 작은 소수가 2이기 때문에 더해서 n이 나오기 위해서는 n-2여야 한다 for 문을 돌리꺼면 2부터 n-1까지 돌리면 [)에 적합하게 만들수 있다)\n",
    "2. 새로운 n이 시작할 때 list의 마지막 값과 n-2와 비교하여 n-2가 더 크면 list의 마지막 값부터 이어서 더 큰 소수를 찾는다\n",
    "3. 소수 list에 존재하는 값들을 더해서 값이 나오는지 확인한다."
   ]
  },
  {
   "cell_type": "markdown",
   "metadata": {},
   "source": [
    "### 방법 1: 아래코드는 시간 초과가 뜸 (안 봐도 됨 방법 3만 보셈)"
   ]
  },
  {
   "cell_type": "code",
   "execution_count": 3,
   "metadata": {},
   "outputs": [
    {
     "name": "stdout",
     "output_type": "stream",
     "text": [
      "3\n",
      "8\n",
      "3 5\n",
      "10\n",
      "5 5\n",
      "16\n",
      "5 11\n"
     ]
    }
   ],
   "source": [
    "prime_number = [2, 3, 5, 7, 11, 13, 17, 19, 23, 29] #일단 생각나는 정도만 써놓고 시작\n",
    "n = 0\n",
    "\n",
    "T = input()\n",
    "\n",
    "for _ in range(int(T)):\n",
    "    n = int(input())\n",
    "    \n",
    "    \n",
    "    ##============================================\n",
    "    ##n-1보다 작은 모든 소수를 찾고 저장하는 부분\n",
    "    ##============================================\n",
    "    if prime_number[-1] < n-1:\n",
    "        for i in range(prime_number[-1]+1, n-1): # n-2 까지 실행\n",
    "            if i% 2 == 0:  ## 짝수라며는 절대 소수일 수 없다.\n",
    "                continue\n",
    "            for j in range(3, i//2, 2): # i에 2를 나눈 값까지만 나눠보면 됨 그 뒤로는 나뉠 수 없음. /2 하면 짝수던 홀수던 만족 (나누기 2가 아니라 root 해야되는데 numpy 못 씀 ㅅㅂ)\n",
    "                if i%j == 0:\n",
    "                    break\n",
    "            else:\n",
    "                prime_number.append(i)\n",
    "    \n",
    "    ##=============================================\n",
    "    ##소수의 값들을 다 더해보는 부분\n",
    "    ##=============================================\n",
    "    partition1 = 0\n",
    "    partition2 = 0\n",
    "    for i in range(len(prime_number)):\n",
    "        if partition2 != 0 and num1 >= partition2: ## 파티션이 a와 b일때 b부터는 검사할 필요 X\n",
    "            break\n",
    "        num1 = prime_number[i]\n",
    "\n",
    "        for j in range(i, len(prime_number)):\n",
    "            num2 = prime_number[j]\n",
    "            if n < num2:\n",
    "                break\n",
    "            if num1 + num2 == n:\n",
    "                partition1 = num1\n",
    "                partition2 = num2\n",
    "                break\n",
    "    print(partition1,partition2)"
   ]
  },
  {
   "cell_type": "markdown",
   "metadata": {},
   "source": [
    "### 소수 빠르게 구하기 (에라토스테네스의 체)\n",
    "조금의 검색 결과 가장 빠르게 소수를 구하는 방식이라고 나와있는데 실제로 코드도 빠른지 확인하는 부분\n",
    "\n",
    "먼저 내 코드부터"
   ]
  },
  {
   "cell_type": "code",
   "execution_count": 7,
   "metadata": {},
   "outputs": [
    {
     "name": "stdout",
     "output_type": "stream",
     "text": [
      "0.1655564308166504\n",
      "[1, 3, 5, 7, 11, 13, 17, 19, 23, 29, 31, 37, 41, 43, 47, 53, 59, 61, 67, 71, 73, 79, 83, 89, 97, 101, 103, 107, 109, 113, 127, 131, 137, 139, 149, 151, 157, 163, 167, 173, 179, 181, 191, 193, 197, 199, 211, 223, 227, 229]\n"
     ]
    }
   ],
   "source": [
    "import time\n",
    "\n",
    "start = time.time()\n",
    "a =[]\n",
    "for i in range(0, 10000): # n-2 까지 실행\n",
    "    if i% 2 == 0:  ## 짝수라며는 절대 소수일 수 없다.\n",
    "        continue\n",
    "    for j in range(3, i//2, 2):\n",
    "        if i%j == 0:\n",
    "            break\n",
    "    else:\n",
    "        a.append(i)\n",
    "end = time.time()\n",
    "print(end-start)\n",
    "print(a[:50])"
   ]
  },
  {
   "cell_type": "code",
   "execution_count": 11,
   "metadata": {},
   "outputs": [
    {
     "name": "stdout",
     "output_type": "stream",
     "text": [
      "0.0059833526611328125\n",
      "[2, 3, 5, 7, 11, 13, 17, 19, 23, 29, 31, 37, 41, 43, 47, 53, 59, 61, 67, 71, 73, 79, 83, 89, 97, 101, 103, 107, 109, 113, 127, 131, 137, 139, 149, 151, 157, 163, 167, 173, 179, 181, 191, 193, 197, 199, 211, 223, 227, 229]\n"
     ]
    }
   ],
   "source": [
    "import time\n",
    "\n",
    "start = time.time()\n",
    "\n",
    "a=[]\n",
    "sieve = [True] * 10000\n",
    "\n",
    "# n의 최대 약수가 sqrt(n) 이하이므로 i=sqrt(n)까지 검사\n",
    "m = int(10000 ** 0.5)\n",
    "for i in range(2, m + 1):\n",
    "    if sieve[i] == True:           # i가 소수인 경우 \n",
    "        for j in range(i+i, 10000, i): # i이후 i의 배수들을 False 판정\n",
    "            sieve[j] = False\n",
    "\n",
    "    # 소수 목록 산출\n",
    "a = [i for i in range(2, 10000) if sieve[i] == True]\n",
    "end = time.time()\n",
    "print(end-start)\n",
    "print(a[:50])"
   ]
  },
  {
   "cell_type": "markdown",
   "metadata": {},
   "source": [
    "위의 결과에서 볼 수 있 듯이 훨씬 빠르다 소수는 자주 나오는 문제니 에라토스테네스의 체는 기억하자\n",
    "\n",
    "관련 코드 및 정보는 다음 사이트에서 볼 수 있다.\n",
    "https://ko.wikipedia.org/wiki/%EC%97%90%EB%9D%BC%ED%86%A0%EC%8A%A4%ED%85%8C%EB%84%A4%EC%8A%A4%EC%9D%98_%EC%B2%B4\n",
    "\n",
    "### 위 코드를 사용할 때의 문제점\n",
    "현재 만들어 놓은 코드는 prime_number 리스트의 앞부분은 무시하고 그보다 큰 수만 구하면 되는데 이게 힘들다. 그렇기 때문에 인풋 자체를 인트형으로 다 받아놓고 max 값을 찾아서 그거에 대한 소수를 찾아놓고 계산이 더 효율적일 것으로 보인다."
   ]
  },
  {
   "cell_type": "markdown",
   "metadata": {},
   "source": [
    "### 방법2 아래도 시간 초과가 뜸"
   ]
  },
  {
   "cell_type": "code",
   "execution_count": 14,
   "metadata": {},
   "outputs": [
    {
     "name": "stdout",
     "output_type": "stream",
     "text": [
      "3\n",
      "8\n",
      "10\n",
      "16\n",
      "3 5\n",
      "5 5\n",
      "5 11\n"
     ]
    }
   ],
   "source": [
    "##======================================================================\n",
    "## 에라토스테네스의 체\n",
    "##======================================================================\n",
    "def prime_list(n):\n",
    "    # 에라토스테네스의 체 초기화: n개 요소에 True 설정(소수로 간주)\n",
    "    sieve = [True] * n\n",
    "\n",
    "    # n의 최대 약수가 sqrt(n) 이하이므로 i=sqrt(n)까지 검사\n",
    "    m = int(n ** 0.5)\n",
    "    for i in range(2, m + 1):\n",
    "        if sieve[i] == True:           # i가 소수인 경우 \n",
    "            for j in range(i+i, n, i): # i이후 i의 배수들을 False 판정\n",
    "                sieve[j] = False\n",
    "\n",
    "    # 소수 목록 산출\n",
    "    return [i for i in range(2, n) if sieve[i] == True]\n",
    "\n",
    "##====================================================================\n",
    "## 데이터 받아오기\n",
    "##====================================================================\n",
    "T = int(input())\n",
    "n=[]\n",
    "for _ in range(T):\n",
    "    n.append(int(input()))\n",
    "\n",
    "prime_number = prime_list(max(n))\n",
    "\n",
    "##====================================================================\n",
    "## 파티션 찾기\n",
    "##====================================================================\n",
    "\n",
    "for num in n:\n",
    "    part1 = 0\n",
    "    part2 = 0\n",
    "    \n",
    "    for i in range(len(prime_number)):\n",
    "        num1 = prime_number[i]\n",
    "        if (num1 > num) or (part2 != 0 and i >= part2):\n",
    "            break\n",
    "        for j in range(i,len(prime_number)):\n",
    "            num2 = prime_number[j]\n",
    "            if (num2 > num):\n",
    "                break\n",
    "            if num1 + num2 == num:\n",
    "                part1 = num1\n",
    "                part2 = num2\n",
    "                break\n",
    "    print(part1,part2)"
   ]
  },
  {
   "cell_type": "markdown",
   "metadata": {},
   "source": [
    "위의 값도 시간초과가 뜸 파티션 구하는 부분의 속도를 줄여야 할 것 같다"
   ]
  },
  {
   "cell_type": "markdown",
   "metadata": {},
   "source": [
    "### 방법 3\n",
    "\n",
    "리스트에서 값들을 하나 하나 다 더해보는 것이 아니라 두 수의 합이 n이 될거면 n을 하나의 긴 list로 양쪽에서 한칸씩 와서 가운데서 만나면 된당"
   ]
  },
  {
   "cell_type": "code",
   "execution_count": 17,
   "metadata": {},
   "outputs": [
    {
     "name": "stdout",
     "output_type": "stream",
     "text": [
      "3\n",
      "8\n",
      "10\n",
      "16\n",
      "3 5\n",
      "5 5\n",
      "5 11\n"
     ]
    }
   ],
   "source": [
    "##======================================================================\n",
    "## 에라토스테네스의 체\n",
    "##======================================================================\n",
    "def prime_list(n):\n",
    "    # 에라토스테네스의 체 초기화: n개 요소에 True 설정(소수로 간주)\n",
    "    sieve = [True] * n\n",
    "\n",
    "    # n의 최대 약수가 sqrt(n) 이하이므로 i=sqrt(n)까지 검사\n",
    "    m = int(n ** 0.5)\n",
    "    for i in range(2, m + 1):\n",
    "        if sieve[i] == True:           # i가 소수인 경우 \n",
    "            for j in range(i+i, n, i): # i이후 i의 배수들을 False 판정\n",
    "                sieve[j] = False\n",
    "\n",
    "    # 소수 목록 산출\n",
    "    sieve[0] = False\n",
    "    sieve[1] = False\n",
    "    return sieve\n",
    "\n",
    "##====================================================================\n",
    "## 데이터 받아오기\n",
    "##====================================================================\n",
    "T = int(input())\n",
    "n=[]\n",
    "for _ in range(T):\n",
    "    n.append(int(input()))\n",
    "\n",
    "prime_number = prime_list(max(n))\n",
    "\n",
    "##====================================================================\n",
    "## 파티션 찾기\n",
    "##====================================================================\n",
    "\n",
    "for num in n:\n",
    "    \n",
    "    part1 = 0\n",
    "    part2 = 0\n",
    "    i = 1\n",
    "    j = num-1\n",
    "    for _ in range(num//2):\n",
    "        if prime_number[i] and prime_number[j]:\n",
    "            part1 = i\n",
    "            part2 = j\n",
    "        i+=1\n",
    "        j-=1\n",
    "            \n",
    "    print(part1,part2)"
   ]
  },
  {
   "cell_type": "markdown",
   "metadata": {},
   "source": [
    "## 5568번\n",
    "#### 풀이법\n",
    "> 1. 주어진 리스트에서 차례대로 한 숫자를 뽑는 재귀를 사용\n",
    "2. argument는 리스트와 K에 해당하는 값\n",
    "3. K가 0이 되면 base case\n",
    "4. K가 0이 아니면 전달? 전해? 받은 리스트에서 순차적으로 값을 하나씩 뽑고 다시 재귀 호출\n",
    "5. K가 0일 때 남아있는 리스트에서 한 값만 뽑고 지금까지 뽑은 값들을 모두 연결 (string이 쌉이득임 이거 계산 개 귀찮. 난 해보고 싶어서 걍 숫자했는데 씨발임 5시간 날림 씨발)\n",
    "6. 재귀를 나가기 전에 순차적으로 저장해 놓은 값을 모두 POP 시킨다 (STACK 개이덕)\n",
    "\n",
    "자세한 설명은 만나서"
   ]
  },
  {
   "cell_type": "code",
   "execution_count": 1,
   "metadata": {},
   "outputs": [
    {
     "name": "stdout",
     "output_type": "stream",
     "text": [
      "4\n",
      "2\n",
      "1\n",
      "2\n",
      "12\n",
      "1\n",
      "7\n"
     ]
    }
   ],
   "source": [
    "\"\"\"\n",
    "숫자의 총 수 : n (4이상, 10 이하)\n",
    "뽑는 수 : k (2이상 4 이하)\n",
    "각 숫자는 1이상 99이하\n",
    "\"\"\"\n",
    "\n",
    "from itertools import permutations\n",
    "\n",
    "nums = []\n",
    "picked = []\n",
    "result = []\n",
    "\n",
    "##================================\n",
    "## 재귀 함수\n",
    "##================================\n",
    "\n",
    "def choose (myList, to_go):\n",
    "    global picked\n",
    "    global result\n",
    "\n",
    "    if to_go ==0:\n",
    "        # 끝 여기서 result 넣어줘\n",
    "        for num in myList:  # 남아있는 모든 list의 값들을 순차적으로 1의 자리에 넣어준다\n",
    "            picked.append(num)\n",
    "            res_num = 0\n",
    "            two_digit = 0 ## 2의자리까지 가능하니깐\n",
    "            for i, j in enumerate(reversed(picked)):\n",
    "                check = j\n",
    "                if two_digit != 0: ## 그 전 숫자가 2의 자리일 경우 씨바 두자리 수 두개일 경우 생각해줘야 됨\n",
    "                    j = j * (10**two_digit)\n",
    "                if check >= 10:     \n",
    "                    two_digit += 1\n",
    "                res_num += j*(10**i)\n",
    "            result.append(res_num)\n",
    "            picked.pop()\n",
    "        return\n",
    "\n",
    "    for i, num in enumerate(myList):\n",
    "        picked.append(num)\n",
    "        del myList[i]\n",
    "        choose(myList, to_go-1)\n",
    "        picked.pop()\n",
    "        myList.insert(i,num)\n",
    "\n",
    "##================================================\n",
    "## main part\n",
    "##================================================\n",
    "\n",
    "n = int(input())\n",
    "k = int(input())\n",
    "\n",
    "for _ in range(n):\n",
    "    nums.append(int(input()))\n",
    "\n",
    "choose(nums, k-1)\n",
    "\n",
    "answer = set(result)\n",
    "\n",
    "print(len(answer))\n"
   ]
  },
  {
   "cell_type": "code",
   "execution_count": null,
   "metadata": {},
   "outputs": [],
   "source": []
  }
 ],
 "metadata": {
  "kernelspec": {
   "display_name": "Python [conda env:deep-learning]",
   "language": "python",
   "name": "conda-env-deep-learning-py"
  },
  "language_info": {
   "codemirror_mode": {
    "name": "ipython",
    "version": 3
   },
   "file_extension": ".py",
   "mimetype": "text/x-python",
   "name": "python",
   "nbconvert_exporter": "python",
   "pygments_lexer": "ipython3",
   "version": "3.7.2"
  }
 },
 "nbformat": 4,
 "nbformat_minor": 2
}
